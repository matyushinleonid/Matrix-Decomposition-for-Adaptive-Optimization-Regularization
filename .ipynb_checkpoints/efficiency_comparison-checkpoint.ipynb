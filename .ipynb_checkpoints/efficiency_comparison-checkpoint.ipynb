{
 "cells": [
  {
   "cell_type": "code",
   "execution_count": 8,
   "metadata": {
    "collapsed": true
   },
   "outputs": [],
   "source": [
    "import numpy as np\n",
    "import time\n",
    "from tqdm import trange\n",
    "\n",
    "eps = 1e-2\n",
    "d = 5000\n",
    "r = 200\n",
    "G = np.random.randn(d, r)"
   ]
  },
  {
   "cell_type": "markdown",
   "metadata": {},
   "source": [
    "# Naive computation vs smart computation (proposed in the paper)\n",
    "\n",
    "Given a full-rank matrix $G \\in \\mathbb{R}^{d \\times r}$, compute $\\left(GG^T\\right)^{-\\frac{1}{2}}$. There are several ways to do it, let's compare their efficiencies."
   ]
  },
  {
   "cell_type": "markdown",
   "metadata": {},
   "source": [
    "## 1. Naive with SVD\n",
    "\n",
    "Decomposing $G = U\\Sigma V^T$, obtaining $U_r$ and $\\Sigma_r$ from here and substituting to the formula from the paper."
   ]
  },
  {
   "cell_type": "code",
   "execution_count": 2,
   "metadata": {},
   "outputs": [
    {
     "name": "stdout",
     "output_type": "stream",
     "text": [
      "Naive algorithm with SVD finished in 2.7756 seconds\n"
     ]
    }
   ],
   "source": [
    "start_time = time.time()\n",
    "U, sigma_r, V = np.linalg.svd(G)\n",
    "U_r = U[:, :r]\n",
    "result_naive_svd = np.eye(d) / eps + U_r @ (np.diag(1 / (sigma_r + eps)) - np.eye(r) / eps) @ U_r.T\n",
    "print('Naive algorithm with SVD finished in {:.4f} seconds'.format(time.time() - start_time))"
   ]
  },
  {
   "cell_type": "markdown",
   "metadata": {},
   "source": [
    "## 2. Smart with eigendecomposition\n",
    "\n",
    "Decomposing $G^TG = V\\Sigma_r^2V^T$, obtaining $U_r = GV\\Sigma_r^{-1}$ and substituting to the formula from the paper."
   ]
  },
  {
   "cell_type": "code",
   "execution_count": 3,
   "metadata": {},
   "outputs": [
    {
     "name": "stdout",
     "output_type": "stream",
     "text": [
      "Smart algorithm with eigendecomposition finished in 0.4249 seconds\n"
     ]
    }
   ],
   "source": [
    "start_time = time.time()\n",
    "sigma, V = np.linalg.eigh(G.T @ G)\n",
    "sigma_r = np.sqrt(sigma[::-1])\n",
    "V = np.fliplr(V)\n",
    "U_r = G @ V @ np.diag(1 / sigma_r)\n",
    "result_smart_eigen = np.eye(d) / eps + U_r @ (np.diag(1 / (sigma_r + eps)) - np.eye(r) / eps) @ U_r.T\n",
    "print('Smart algorithm with eigendecomposition finished in {:.4f} seconds'.format(time.time() - start_time))"
   ]
  },
  {
   "cell_type": "code",
   "execution_count": 4,
   "metadata": {},
   "outputs": [
    {
     "data": {
      "text/plain": [
       "True"
      ]
     },
     "execution_count": 4,
     "metadata": {},
     "output_type": "execute_result"
    }
   ],
   "source": [
    "np.allclose(result_naive_svd, result_smart_eigen)"
   ]
  },
  {
   "cell_type": "markdown",
   "metadata": {},
   "source": [
    "So the last method which was proposed in the paper is the most efficient way to perform a desired computation."
   ]
  },
  {
   "cell_type": "markdown",
   "metadata": {},
   "source": [
    "## 3. Plots"
   ]
  },
  {
   "cell_type": "code",
   "execution_count": 5,
   "metadata": {},
   "outputs": [
    {
     "name": "stderr",
     "output_type": "stream",
     "text": [
      "100%|██████████████████████████████████████████████████████████████████████████████████| 20/20 [01:34<00:00, 10.60s/it]\n"
     ]
    }
   ],
   "source": [
    "time_naive = []\n",
    "time_smart = []\n",
    "for d in trange(500, 10001, 500):\n",
    "    G = np.random.randn(d, r)\n",
    "    start_time = time.time()\n",
    "    U, sigma_r, V = np.linalg.svd(G)\n",
    "    U_r = U[:, :r]\n",
    "    result_naive_svd = np.eye(d) / eps + U_r @ (np.diag(1 / (sigma_r + eps)) - np.eye(r) / eps) @ U_r.T\n",
    "    time_naive.append(time.time() - start_time)\n",
    "\n",
    "    start_time = time.time()\n",
    "    sigma, V = np.linalg.eigh(G.T @ G)\n",
    "    sigma_r = np.sqrt(sigma[::-1])\n",
    "    V = np.fliplr(V)\n",
    "    U_r = G @ V @ np.diag(1 / sigma_r)\n",
    "    result_smart_eigen = np.eye(d) / eps + U_r @ (np.diag(1 / (sigma_r + eps)) - np.eye(r) / eps) @ U_r.T\n",
    "    time_smart.append(time.time() - start_time)"
   ]
  },
  {
   "cell_type": "code",
   "execution_count": 6,
   "metadata": {
    "collapsed": true
   },
   "outputs": [],
   "source": [
    "import matplotlib.pyplot as plt\n",
    "import seaborn as sns\n",
    "\n",
    "%matplotlib inline\n",
    "sns.set()"
   ]
  },
  {
   "cell_type": "code",
   "execution_count": 10,
   "metadata": {},
   "outputs": [
    {
     "data": {
      "image/png": "[encoded data removed]",
      "text/plain": [
       "<matplotlib.figure.Figure at 0x2a293d061d0>"
      ]
     },
     "metadata": {},
     "output_type": "display_data"
    }
   ],
   "source": [
    "sns.set_style(style='darkgrid')\n",
    "\n",
    "plt.figure(figsize=[8, 5])\n",
    "plt.title('Efficiency comparison of the ways to compute GGT', fontdict={'fontsize': 18})\n",
    "plt.plot(range(500, 10001, 500), time_naive, label='naive')\n",
    "plt.plot(range(500, 10001, 500), time_smart, label='smart')\n",
    "plt.legend(loc='best')\n",
    "plt.xlabel('number of rows in matrix $G$')\n",
    "plt.ylabel('seconds')\n",
    "plt.show()"
   ]
  }
 ],
 "metadata": {
  "kernelspec": {
   "display_name": "Python 3",
   "language": "python",
   "name": "python3"
  },
  "language_info": {
   "codemirror_mode": {
    "name": "ipython",
    "version": 3
   },
   "file_extension": ".py",
   "mimetype": "text/x-python",
   "name": "python",
   "nbconvert_exporter": "python",
   "pygments_lexer": "ipython3",
   "version": "3.6.6"
  }
 },
 "nbformat": 4,
 "nbformat_minor": 2
}
