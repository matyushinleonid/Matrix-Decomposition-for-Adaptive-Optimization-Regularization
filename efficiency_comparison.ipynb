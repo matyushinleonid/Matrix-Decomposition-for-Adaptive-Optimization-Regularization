{
 "cells": [
  {
   "cell_type": "code",
   "execution_count": 1,
   "metadata": {
    "collapsed": true
   },
   "outputs": [],
   "source": [
    "import numpy as np\n",
    "import time\n",
    "from scipy.linalg import sqrtm\n",
    "\n",
    "np.random.seed(13)\n",
    "\n",
    "eps = 1e-31\n",
    "d = 5000\n",
    "r = 200\n",
    "G = np.random.randn(d, r)"
   ]
  },
  {
   "cell_type": "markdown",
   "metadata": {},
   "source": [
    "# Naive computation vs smart computation (proposed in the paper)\n",
    "\n",
    "Given a full-rank matrix $G \\in \\mathbb{R}^{d \\times r}$, compute $\\left(GG^T\\right)^{-\\frac{1}{2}}$. There are several ways to do it, let's compare their efficiencies."
   ]
  },
  {
   "cell_type": "markdown",
   "metadata": {},
   "source": [
    "## 1. Naive\n",
    "\n",
    "Just compute straightforward."
   ]
  },
  {
   "cell_type": "code",
   "execution_count": 2,
   "metadata": {},
   "outputs": [
    {
     "name": "stdout",
     "output_type": "stream",
     "text": [
      "Naive algorithm finished in 62.3479 seconds\n"
     ]
    }
   ],
   "source": [
    "start_time = time.time()\n",
    "result_naive = np.linalg.inv(sqrtm(G @ G.T))\n",
    "print('Naive algorithm finished in {:.4f} seconds'.format(time.time() - start_time))"
   ]
  },
  {
   "cell_type": "markdown",
   "metadata": {},
   "source": [
    "## 2. Naive with SVD\n",
    "\n",
    "$$\n",
    "G = U\\Sigma V^T\n",
    "$$\n",
    "$$\n",
    "\\left(GG^T\\right)^{-\\frac{1}{2}} = \\left(U\\Sigma^2U^T\\right)^{-\\frac{1}{2}} = U\\Sigma^{-1}U^T\n",
    "$$"
   ]
  },
  {
   "cell_type": "code",
   "execution_count": 3,
   "metadata": {},
   "outputs": [
    {
     "name": "stdout",
     "output_type": "stream",
     "text": [
      "Naive algorithm with SVD finished in 37.1800 seconds\n"
     ]
    }
   ],
   "source": [
    "start_time = time.time()\n",
    "U, sigma, _ = np.linalg.svd(G @ G.T)\n",
    "result_naive_svd = U @ (1 / (np.diag(sigma) + eps)) @ U.T\n",
    "print('Naive algorithm with SVD finished in {:.4f} seconds'.format(time.time() - start_time))"
   ]
  },
  {
   "cell_type": "markdown",
   "metadata": {},
   "source": [
    "## 3. Smart\n",
    "\n",
    "$$\n",
    "\\left(GG^T\\right)^{-\\frac{1}{2}} = G\\left(G^TG\\right)^{-\\frac{3}{2}}G^T\n",
    "$$"
   ]
  },
  {
   "cell_type": "code",
   "execution_count": 4,
   "metadata": {},
   "outputs": [
    {
     "name": "stdout",
     "output_type": "stream",
     "text": [
      "Smart algorithm finished in 0.2099 seconds\n"
     ]
    }
   ],
   "source": [
    "start_time = time.time()\n",
    "result_smart = G @ (np.linalg.inv(sqrtm(G.T @ G))) ** 3 @ G.T\n",
    "print('Smart algorithm finished in {:.4f} seconds'.format(time.time() - start_time))"
   ]
  },
  {
   "cell_type": "markdown",
   "metadata": {},
   "source": [
    "## 4. Smart with eigendecomposition\n",
    "\n",
    "$$\n",
    "G^TG = V\\Sigma^2 V^T\n",
    "$$\n",
    "$$\n",
    "U = GV\\Sigma^{-1}\n",
    "$$\n",
    "$$\n",
    "\\left(GG^T\\right)^{-\\frac{1}{2}} = U\\Sigma^{-1}U^T\n",
    "$$"
   ]
  },
  {
   "cell_type": "code",
   "execution_count": 5,
   "metadata": {},
   "outputs": [
    {
     "name": "stdout",
     "output_type": "stream",
     "text": [
      "Smart algorithm with eigendecomposition finished in 0.1879 seconds\n"
     ]
    }
   ],
   "source": [
    "start_time = time.time()\n",
    "sigma, V = np.linalg.eigh(G.T @ G)\n",
    "sigma = sigma[::-1]\n",
    "V = V[::-1]\n",
    "U = G @ V @ (1 / (np.sqrt(np.diag(sigma)) + eps))\n",
    "result_smart_eigen = U @ (1 / (np.sqrt(np.diag(sigma)) + eps)) @ U.T\n",
    "print('Smart algorithm with eigendecomposition finished in {:.4f} seconds'.format(time.time() - start_time))"
   ]
  },
  {
   "cell_type": "markdown",
   "metadata": {},
   "source": [
    "So the last method which was proposed in the paper is the most efficient way to perform a desired computation."
   ]
  }
 ],
 "metadata": {
  "kernelspec": {
   "display_name": "Python 3",
   "language": "python",
   "name": "python3"
  },
  "language_info": {
   "codemirror_mode": {
    "name": "ipython",
    "version": 3
   },
   "file_extension": ".py",
   "mimetype": "text/x-python",
   "name": "python",
   "nbconvert_exporter": "python",
   "pygments_lexer": "ipython3",
   "version": "3.6.3"
  }
 },
 "nbformat": 4,
 "nbformat_minor": 2
}
